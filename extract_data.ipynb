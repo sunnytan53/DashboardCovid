{
 "cells": [
  {
   "cell_type": "code",
   "execution_count": 1,
   "metadata": {},
   "outputs": [],
   "source": [
    "import pandas as pd\n",
    "import os\n"
   ]
  },
  {
   "cell_type": "code",
   "execution_count": 2,
   "metadata": {},
   "outputs": [],
   "source": [
    "def get_date(d: str):\n",
    "    return pd.to_datetime(d, format=\"%m-%d-%Y\").date()\n"
   ]
  },
  {
   "cell_type": "code",
   "execution_count": 3,
   "metadata": {},
   "outputs": [],
   "source": [
    "df_list = []\n",
    "last_skip = get_date(\"01-01-2018\")\n",
    "path = \"csse_covid_19_daily_reports/\"\n",
    "\n",
    "for filename in os.listdir(path):\n",
    "    if filename.endswith(\".csv\"):\n",
    "        try:\n",
    "            df = pd.read_csv(\n",
    "                path + filename,\n",
    "                usecols=[\n",
    "                    \"Admin2\",\n",
    "                    \"Province_State\",\n",
    "                    \"Country_Region\",\n",
    "                    \"Confirmed\",\n",
    "                    \"Deaths\",\n",
    "                ],\n",
    "            )\n",
    "            df[\"Date\"] = get_date(filename[:-4])\n",
    "            df[\"Confirmed\"] = df[\"Confirmed\"].fillna(0).astype(int)\n",
    "            df[\"Deaths\"] = df[\"Deaths\"].fillna(0).astype(int)\n",
    "            df_list.append(df)\n",
    "        except:  # skip files in early dates that are not in standard format\n",
    "            last_skip = max(get_date(filename[:-4]), last_skip)\n"
   ]
  },
  {
   "cell_type": "code",
   "execution_count": 4,
   "metadata": {},
   "outputs": [
    {
     "name": "stdout",
     "output_type": "stream",
     "text": [
      "last skipped date: 2020-03-21\n",
      "<class 'pandas.core.frame.DataFrame'>\n",
      "Index: 4277676 entries, 1822016 to 3823137\n",
      "Data columns (total 6 columns):\n",
      " #   Column     Dtype \n",
      "---  ------     ----- \n",
      " 0   city       object\n",
      " 1   state      object\n",
      " 2   region     object\n",
      " 3   confirmed  int64 \n",
      " 4   deaths     int64 \n",
      " 5   date       object\n",
      "dtypes: int64(2), object(4)\n",
      "memory usage: 228.5+ MB\n"
     ]
    }
   ],
   "source": [
    "print(\"last skipped date:\", last_skip)\n",
    "df_final = (\n",
    "    pd.concat(df_list, ignore_index=True)\n",
    "    .rename(\n",
    "        columns={\n",
    "            \"Admin2\": \"city\",\n",
    "            \"Province_State\": \"state\",\n",
    "            \"Country_Region\": \"region\",\n",
    "            \"Confirmed\": \"confirmed\",\n",
    "            \"Deaths\": \"deaths\",\n",
    "            \"Date\": \"date\",\n",
    "        }\n",
    "    )\n",
    "    .sort_values([\"date\", \"region\", \"state\", \"city\"])\n",
    ")\n",
    "df_final.info()\n"
   ]
  },
  {
   "cell_type": "code",
   "execution_count": 5,
   "metadata": {},
   "outputs": [],
   "source": [
    "df_final.to_csv(\"data.zip\", compression=\"zip\")\n"
   ]
  }
 ],
 "metadata": {
  "kernelspec": {
   "display_name": "dash",
   "language": "python",
   "name": "python3"
  },
  "language_info": {
   "codemirror_mode": {
    "name": "ipython",
    "version": 3
   },
   "file_extension": ".py",
   "mimetype": "text/x-python",
   "name": "python",
   "nbconvert_exporter": "python",
   "pygments_lexer": "ipython3",
   "version": "3.11.3"
  },
  "orig_nbformat": 4
 },
 "nbformat": 4,
 "nbformat_minor": 2
}
